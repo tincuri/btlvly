{
 "cells": [
  {
   "cell_type": "code",
   "execution_count": 74,
   "metadata": {},
   "outputs": [],
   "source": [
    "import sympy as sp\n",
    "import numpy as np\n",
    "import matplotlib.pyplot as plt"
   ]
  },
  {
   "cell_type": "code",
   "execution_count": 89,
   "metadata": {},
   "outputs": [],
   "source": [
    "# Define variable\n",
    "x0=sp.symbols(\"x0\")\n",
    "y0=sp.symbols(\"y0\")\n",
    "t=sp.symbols(\"t\")\n",
    "phi=sp.symbols(\"varphi\")\n",
    "x=sp.symbols(\"x\")\n",
    "x_t=x0*sp.cos(5*t)\n",
    "y=y0*sp.cos(5*t+phi)"
   ]
  },
  {
   "cell_type": "code",
   "execution_count": null,
   "metadata": {},
   "outputs": [],
   "source": [
    "t_plot=np.linspace(0,20,400)\n"
   ]
  },
  {
   "cell_type": "markdown",
   "metadata": {},
   "source": [
    "Tìm x theo t"
   ]
  },
  {
   "cell_type": "code",
   "execution_count": 90,
   "metadata": {},
   "outputs": [
    {
     "data": {
      "text/latex": [
       "$\\displaystyle y_{0} \\left(\\frac{x \\cos{\\left(\\varphi \\right)}}{x_{0}} - \\sqrt{- \\frac{x^{2}}{x_{0}^{2}} + 1} \\sin{\\left(\\varphi \\right)}\\right)$"
      ],
      "text/plain": [
       "y0*(x*cos(varphi)/x0 - sqrt(-x**2/x0**2 + 1)*sin(varphi))"
      ]
     },
     "execution_count": 90,
     "metadata": {},
     "output_type": "execute_result"
    }
   ],
   "source": [
    "sol = sp.solve(x_t-x,t)[1]\n",
    "y=y.subs(t,sol)\n",
    "y=sp.expand_trig(y)\n",
    "y"
   ]
  },
  {
   "cell_type": "code",
   "execution_count": 91,
   "metadata": {},
   "outputs": [],
   "source": [
    "plt.show()"
   ]
  }
 ],
 "metadata": {
  "kernelspec": {
   "display_name": "Python 3",
   "language": "python",
   "name": "python3"
  },
  "language_info": {
   "codemirror_mode": {
    "name": "ipython",
    "version": 3
   },
   "file_extension": ".py",
   "mimetype": "text/x-python",
   "name": "python",
   "nbconvert_exporter": "python",
   "pygments_lexer": "ipython3",
   "version": "3.12.4"
  }
 },
 "nbformat": 4,
 "nbformat_minor": 2
}
