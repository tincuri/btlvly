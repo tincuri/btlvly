{
 "cells": [
  {
   "cell_type": "code",
   "execution_count": 9,
   "metadata": {},
   "outputs": [],
   "source": [
    "import numpy as np\n",
    "import matplotlib.pyplot as plt\n",
    "import matplotlib.image as im\n",
    "import sympy as sp\n",
    "from PIL import Image, ImageOps\n"
   ]
  },
  {
   "cell_type": "code",
   "execution_count": 103,
   "metadata": {},
   "outputs": [],
   "source": [
    "i=0\n",
    "#size of picture\n",
    "imgdir = \"12 LY\\\\\" + \"1.jpg\"\n",
    "im1= Image.open(imgdir)\n",
    "im2=ImageOps.grayscale(im1)\n",
    "A = im.pil_to_array(im2)\n",
    "h, w = np.shape(A)"
   ]
  },
  {
   "cell_type": "code",
   "execution_count": null,
   "metadata": {},
   "outputs": [
    {
     "name": "stdout",
     "output_type": "stream",
     "text": [
      "[[204 204 204 ... 204 204 204]\n",
      " [204 204 204 ... 204 204 204]\n",
      " [204 204 204 ... 204 204 204]\n",
      " ...\n",
      " [209 216 192 ... 222 216 213]\n",
      " [209 216 194 ... 222 214 213]\n",
      " [209 216 196 ... 222 214 213]]\n"
     ]
    }
   ],
   "source": [
    "#size of data\n",
    "\n",
    "for i in range(32):\n",
    "    imgdir = \"12 LY\\\\\" + str(i) + \".jpg\"\n",
    "#Nhap hinh anh\n",
    "    im1 = Image.open(imgdir)\n",
    "#Grayscale\n",
    "    im2 = ImageOps.grayscale(im1)\n",
    "#chuyen thanh mot ma tran ngang\n",
    "    A = im.pil_to_array(im2)\n",
    "\n",
    "    A = np.concatenate(A,axis=None)\n",
    "    if i == 0:\n",
    "        B = A\n",
    "    else:\n",
    "        B = np.column_stack((B,A))\n",
    "print(B)"
   ]
  },
  {
   "cell_type": "code",
   "execution_count": 131,
   "metadata": {},
   "outputs": [
    {
     "data": {
      "text/plain": [
       "array([[  0.0625 ,   0.0625 ,   0.0625 , ...,   0.0625 ,   0.0625 ,\n",
       "          0.0625 ],\n",
       "       [  0.0625 ,   0.0625 ,   0.0625 , ...,   0.0625 ,   0.0625 ,\n",
       "          0.0625 ],\n",
       "       [  0.0625 ,   0.0625 ,   0.0625 , ...,   0.0625 ,   0.0625 ,\n",
       "          0.0625 ],\n",
       "       ...,\n",
       "       [ -1.28125,   5.71875, -18.28125, ...,  11.71875,   5.71875,\n",
       "          2.71875],\n",
       "       [ -2.03125,   4.96875, -17.03125, ...,  10.96875,   2.96875,\n",
       "          1.96875],\n",
       "       [ -2.46875,   4.53125, -15.46875, ...,  10.53125,   2.53125,\n",
       "          1.53125]])"
      ]
     },
     "execution_count": 131,
     "metadata": {},
     "output_type": "execute_result"
    }
   ],
   "source": [
    "C=np.mean(B, axis=1)\n",
    "C= C[:, np.newaxis]\n",
    "B-C"
   ]
  },
  {
   "cell_type": "code",
   "execution_count": 132,
   "metadata": {},
   "outputs": [
    {
     "data": {
      "text/plain": [
       "array([[ 2.97692150e-10,  3.29586003e-09, -1.02735357e-10, ...,\n",
       "        -3.07949690e-08,  7.25288187e-09,  2.67542425e-08],\n",
       "       [ 2.97692150e-10,  3.29586003e-09, -1.02735357e-10, ...,\n",
       "        -3.07949690e-08,  7.25288187e-09,  2.67542425e-08],\n",
       "       [ 2.97692150e-10,  3.29586003e-09, -1.02735357e-10, ...,\n",
       "        -3.07949690e-08,  7.25288187e-09,  2.67542425e-08],\n",
       "       ...,\n",
       "       [ 8.57554195e-08,  2.75475251e-07, -1.83556731e-08, ...,\n",
       "         1.75988676e-06, -5.50757784e-06,  1.32660231e-06],\n",
       "       [ 8.34895974e-08,  2.68005819e-07,  1.47943594e-08, ...,\n",
       "         1.67738703e-06, -4.90884527e-06,  1.00192371e-06],\n",
       "       [ 8.49572916e-08,  2.68840882e-07,  1.61747875e-08, ...,\n",
       "         1.77945246e-06, -4.66234612e-06,  1.37421579e-06]])"
      ]
     },
     "execution_count": 132,
     "metadata": {},
     "output_type": "execute_result"
    }
   ],
   "source": [
    "Bmean=B  - C\n",
    "V, S, Vt = np.linalg.svd(Bmean.T @ Bmean)\n",
    "V\n",
    "S_matrix=np.diag(S)\n",
    "S_inv=np.linalg.inv(S_matrix)\n",
    "Bmean @ Vt.T @ S_inv"
   ]
  },
  {
   "cell_type": "code",
   "execution_count": 99,
   "metadata": {},
   "outputs": [
    {
     "data": {
      "text/plain": [
       "array([[ 7.43904890e-02,  4.59800031e-01, -1.00675170e-02, ...,\n",
       "        -2.08740152e-01,  4.25934603e-02, -4.94396191e-16],\n",
       "       [ 7.43904890e-02,  4.59800031e-01, -1.00675170e-02, ...,\n",
       "        -2.08740152e-01,  4.25934603e-02, -4.94396191e-16],\n",
       "       [ 7.43904890e-02,  4.59800031e-01, -1.00675170e-02, ...,\n",
       "        -2.08740152e-01,  4.25934603e-02, -4.94396191e-16],\n",
       "       ...,\n",
       "       [ 2.14294787e+01,  3.84311008e+01, -1.79875805e+00, ...,\n",
       "         1.19291898e+01, -3.23439431e+01, -4.91496600e-13],\n",
       "       [ 2.08632709e+01,  3.73890525e+01,  1.44976830e+00, ...,\n",
       "         1.13699749e+01, -2.88278108e+01, -4.61152817e-13],\n",
       "       [ 2.12300340e+01,  3.75055508e+01,  1.58504289e+00, ...,\n",
       "         1.20618136e+01, -2.73802135e+01, -4.50132119e-13]])"
      ]
     },
     "execution_count": 99,
     "metadata": {},
     "output_type": "execute_result"
    }
   ],
   "source": [
    "Bmean @ U\n"
   ]
  }
 ],
 "metadata": {
  "kernelspec": {
   "display_name": "Python 3",
   "language": "python",
   "name": "python3"
  },
  "language_info": {
   "codemirror_mode": {
    "name": "ipython",
    "version": 3
   },
   "file_extension": ".py",
   "mimetype": "text/x-python",
   "name": "python",
   "nbconvert_exporter": "python",
   "pygments_lexer": "ipython3",
   "version": "3.12.4"
  }
 },
 "nbformat": 4,
 "nbformat_minor": 2
}
